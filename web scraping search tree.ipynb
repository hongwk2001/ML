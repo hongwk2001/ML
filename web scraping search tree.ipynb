{
 "cells": [
  {
   "cell_type": "code",
   "execution_count": 141,
   "id": "9c8abec9",
   "metadata": {},
   "outputs": [],
   "source": [
    "from bs4 import BeautifulSoup"
   ]
  },
  {
   "cell_type": "code",
   "execution_count": 142,
   "id": "04a21cb4",
   "metadata": {},
   "outputs": [],
   "source": [
    "HTMLfilePath=r\"C:\\Users\\hongw\\Downloads\\web_scraping_example.html\"\n",
    "with open(HTMLfilePath, \"r\") as organization:\n",
    "    soup = BeautifulSoup(organization, \"lxml\")"
   ]
  },
  {
   "cell_type": "code",
   "execution_count": 143,
   "id": "b137eda9",
   "metadata": {},
   "outputs": [
    {
     "data": {
      "text/plain": [
       "['html',\n",
       " ' saved from url=(0022)https://www.chase.com/ ',\n",
       " <html>\n",
       " <body>\n",
       " <h1>My Fist Heading</h1>\n",
       " <b><!--This is a comment line --></b>\n",
       " <p class=\"Test\" title=\"About Me\">My first pragraph.</p>\n",
       " <div class=\"cities\">\n",
       " <h2>London</h2>\n",
       " </div>\n",
       " <ul id=\"HR\">\n",
       " <li class=\"HRManager\">\n",
       " <div class=\"name\">Joseph</div>\n",
       " <div class=\"ID\">097</div>\n",
       " </li>\n",
       " <li class=\"HRManager\">\n",
       " <div class=\"name\">John</div>\n",
       " <div class=\"ID\">097</div>\n",
       " </li>\n",
       " </ul>\n",
       " <ul id=\"Finance\">\n",
       " <li class=\"FinanceManager\">\n",
       " <div class=\"name\">Jack</div>\n",
       " <div class=\"ID\">094</div>\n",
       " </li>\n",
       " </ul>\n",
       " <ul id=\"IT\">\n",
       " <li class=\"ITmanager\">\n",
       " <div class=\"name\">Kelly</div>\n",
       " <div class=\"ID\">011</div>\n",
       " </li>\n",
       " </ul>\n",
       " </body></html>]"
      ]
     },
     "execution_count": 143,
     "metadata": {},
     "output_type": "execute_result"
    }
   ],
   "source": [
    "soup.contents"
   ]
  },
  {
   "cell_type": "code",
   "execution_count": 144,
   "id": "9de72113",
   "metadata": {},
   "outputs": [],
   "source": [
    "tag_li=soup.find(\"li\")"
   ]
  },
  {
   "cell_type": "code",
   "execution_count": 145,
   "id": "b0fd2d06",
   "metadata": {},
   "outputs": [
    {
     "data": {
      "text/plain": [
       "bs4.element.Tag"
      ]
     },
     "execution_count": 145,
     "metadata": {},
     "output_type": "execute_result"
    }
   ],
   "source": [
    "type(tag_li)"
   ]
  },
  {
   "cell_type": "code",
   "execution_count": 146,
   "id": "457f5718",
   "metadata": {},
   "outputs": [
    {
     "data": {
      "text/plain": [
       "<li class=\"HRManager\">\n",
       "<div class=\"name\">Joseph</div>\n",
       "<div class=\"ID\">097</div>\n",
       "</li>"
      ]
     },
     "execution_count": 146,
     "metadata": {},
     "output_type": "execute_result"
    }
   ],
   "source": [
    "tag_li"
   ]
  },
  {
   "cell_type": "code",
   "execution_count": 147,
   "id": "667e2b6b",
   "metadata": {},
   "outputs": [],
   "source": [
    "find_id= soup.find(id='HR')"
   ]
  },
  {
   "cell_type": "code",
   "execution_count": 148,
   "id": "dd11ce44",
   "metadata": {},
   "outputs": [
    {
     "data": {
      "text/plain": [
       "<ul id=\"HR\">\n",
       "<li class=\"HRManager\">\n",
       "<div class=\"name\">Joseph</div>\n",
       "<div class=\"ID\">097</div>\n",
       "</li>\n",
       "<li class=\"HRManager\">\n",
       "<div class=\"name\">John</div>\n",
       "<div class=\"ID\">097</div>\n",
       "</li>\n",
       "</ul>"
      ]
     },
     "execution_count": 148,
     "metadata": {},
     "output_type": "execute_result"
    }
   ],
   "source": [
    "find_id"
   ]
  },
  {
   "cell_type": "code",
   "execution_count": 149,
   "id": "46070061",
   "metadata": {},
   "outputs": [
    {
     "data": {
      "text/plain": [
       "'div'"
      ]
     },
     "execution_count": 149,
     "metadata": {},
     "output_type": "execute_result"
    }
   ],
   "source": [
    "find_id.li.div.name"
   ]
  },
  {
   "cell_type": "code",
   "execution_count": 150,
   "id": "3d6764ad",
   "metadata": {},
   "outputs": [
    {
     "data": {
      "text/plain": [
       "'Joseph'"
      ]
     },
     "execution_count": 150,
     "metadata": {},
     "output_type": "execute_result"
    }
   ],
   "source": [
    "find_id.li.div.string"
   ]
  },
  {
   "cell_type": "code",
   "execution_count": 151,
   "id": "3f26d594",
   "metadata": {},
   "outputs": [],
   "source": [
    "find_id.li.div.ID"
   ]
  },
  {
   "cell_type": "code",
   "execution_count": 152,
   "id": "8198e1e7",
   "metadata": {},
   "outputs": [],
   "source": [
    "search_for_StringOnly=soup.findAll(text=[\"Kelly\",\"Jack\"])"
   ]
  },
  {
   "cell_type": "code",
   "execution_count": 153,
   "id": "6bc5e40d",
   "metadata": {},
   "outputs": [
    {
     "data": {
      "text/plain": [
       "['Jack', 'Kelly']"
      ]
     },
     "execution_count": 153,
     "metadata": {},
     "output_type": "execute_result"
    }
   ],
   "source": [
    "search_for_StringOnly"
   ]
  },
  {
   "cell_type": "code",
   "execution_count": 154,
   "id": "d7bd3386",
   "metadata": {},
   "outputs": [
    {
     "data": {
      "text/plain": [
       "<li class=\"ITmanager\">\n",
       "<div class=\"name\">Kelly</div>\n",
       "<div class=\"ID\">011</div>\n",
       "</li>"
      ]
     },
     "execution_count": 154,
     "metadata": {},
     "output_type": "execute_result"
    }
   ],
   "source": [
    "css_class_search=soup.find(attrs = {\"class\":\"ITmanager\"})\n",
    "css_class_search"
   ]
  },
  {
   "cell_type": "code",
   "execution_count": 155,
   "id": "533eb710",
   "metadata": {},
   "outputs": [],
   "source": [
    "def is_account_manager(tag):\n",
    "    return tag.has_attr(\"id\") and tag.get(\"id\") == \"Finance\""
   ]
  },
  {
   "cell_type": "code",
   "execution_count": 156,
   "id": "a43b558e",
   "metadata": {},
   "outputs": [
    {
     "data": {
      "text/plain": [
       "<ul id=\"Finance\">\n",
       "<li class=\"FinanceManager\">\n",
       "<div class=\"name\">Jack</div>\n",
       "<div class=\"ID\">094</div>\n",
       "</li>\n",
       "</ul>"
      ]
     },
     "execution_count": 156,
     "metadata": {},
     "output_type": "execute_result"
    }
   ],
   "source": [
    "account_manager = soup.find(is_account_manager)\n",
    "account_manager"
   ]
  },
  {
   "cell_type": "code",
   "execution_count": 157,
   "id": "10363cc7",
   "metadata": {},
   "outputs": [
    {
     "data": {
      "text/plain": [
       "'Jack'"
      ]
     },
     "execution_count": 157,
     "metadata": {},
     "output_type": "execute_result"
    }
   ],
   "source": [
    "account_manager.li.div.string"
   ]
  },
  {
   "cell_type": "code",
   "execution_count": 158,
   "id": "ddc75f6a",
   "metadata": {},
   "outputs": [
    {
     "name": "stdout",
     "output_type": "stream",
     "text": [
      "html\n",
      "body\n",
      "h1\n",
      "b\n",
      "p\n",
      "div\n",
      "h2\n",
      "ul\n",
      "li\n",
      "div\n",
      "div\n",
      "li\n",
      "div\n",
      "div\n",
      "ul\n",
      "li\n",
      "div\n",
      "div\n",
      "ul\n",
      "li\n",
      "div\n",
      "div\n"
     ]
    }
   ],
   "source": [
    "for tag in soup.findAll(True):\n",
    "    print(tag.name)"
   ]
  },
  {
   "cell_type": "code",
   "execution_count": 159,
   "id": "1a7c19e5",
   "metadata": {},
   "outputs": [],
   "source": [
    "find_class = soup.findAll(class_='HRManager')"
   ]
  },
  {
   "cell_type": "code",
   "execution_count": 160,
   "id": "14e11ffe",
   "metadata": {},
   "outputs": [
    {
     "data": {
      "text/plain": [
       "[<li class=\"HRManager\">\n",
       " <div class=\"name\">Joseph</div>\n",
       " <div class=\"ID\">097</div>\n",
       " </li>,\n",
       " <li class=\"HRManager\">\n",
       " <div class=\"name\">John</div>\n",
       " <div class=\"ID\">097</div>\n",
       " </li>]"
      ]
     },
     "execution_count": 160,
     "metadata": {},
     "output_type": "execute_result"
    }
   ],
   "source": [
    "find_class"
   ]
  },
  {
   "cell_type": "code",
   "execution_count": 161,
   "id": "7a591dbb",
   "metadata": {},
   "outputs": [
    {
     "data": {
      "text/plain": [
       "bs4.element.ResultSet"
      ]
     },
     "execution_count": 161,
     "metadata": {},
     "output_type": "execute_result"
    }
   ],
   "source": [
    "type(find_class)"
   ]
  },
  {
   "cell_type": "code",
   "execution_count": 162,
   "id": "4ee43bb3",
   "metadata": {},
   "outputs": [
    {
     "data": {
      "text/plain": [
       "[<li class=\"HRManager\">\n",
       " <div class=\"name\">Joseph</div>\n",
       " <div class=\"ID\">097</div>\n",
       " </li>,\n",
       " <li class=\"HRManager\">\n",
       " <div class=\"name\">John</div>\n",
       " <div class=\"ID\">097</div>\n",
       " </li>]"
      ]
     },
     "execution_count": 162,
     "metadata": {},
     "output_type": "execute_result"
    }
   ],
   "source": [
    "find_class"
   ]
  },
  {
   "cell_type": "code",
   "execution_count": 163,
   "id": "611de5ae",
   "metadata": {},
   "outputs": [
    {
     "data": {
      "text/plain": [
       "<li class=\"HRManager\">\n",
       "<div class=\"name\">Joseph</div>\n",
       "<div class=\"ID\">097</div>\n",
       "</li>"
      ]
     },
     "execution_count": 163,
     "metadata": {},
     "output_type": "execute_result"
    }
   ],
   "source": [
    "find_class[0]"
   ]
  },
  {
   "cell_type": "code",
   "execution_count": 164,
   "id": "d6250895",
   "metadata": {},
   "outputs": [
    {
     "data": {
      "text/plain": [
       "<li class=\"HRManager\">\n",
       "<div class=\"name\">John</div>\n",
       "<div class=\"ID\">097</div>\n",
       "</li>"
      ]
     },
     "execution_count": 164,
     "metadata": {},
     "output_type": "execute_result"
    }
   ],
   "source": [
    "find_class[1]"
   ]
  },
  {
   "cell_type": "code",
   "execution_count": 165,
   "id": "08fb4f7e",
   "metadata": {},
   "outputs": [
    {
     "data": {
      "text/plain": [
       "<li class=\"HRManager\">\n",
       "<div class=\"name\">Joseph</div>\n",
       "<div class=\"ID\">097</div>\n",
       "</li>"
      ]
     },
     "execution_count": 165,
     "metadata": {},
     "output_type": "execute_result"
    }
   ],
   "source": [
    "find_class = find_class[0]\n",
    "find_class"
   ]
  },
  {
   "cell_type": "code",
   "execution_count": 169,
   "id": "0f6b6877",
   "metadata": {},
   "outputs": [
    {
     "data": {
      "text/plain": [
       "[<ul id=\"HR\">\n",
       " <li class=\"HRManager\">\n",
       " <div class=\"name\">Joseph</div>\n",
       " <div class=\"ID\">097</div>\n",
       " </li>\n",
       " <li class=\"HRManager\">\n",
       " <div class=\"name\">John</div>\n",
       " <div class=\"ID\">097</div>\n",
       " </li>\n",
       " </ul>]"
      ]
     },
     "execution_count": 169,
     "metadata": {},
     "output_type": "execute_result"
    }
   ],
   "source": [
    "find_parent = find_class.find_parents(\"ul\")\n",
    "find_parent"
   ]
  },
  {
   "cell_type": "code",
   "execution_count": 174,
   "id": "120dd181",
   "metadata": {},
   "outputs": [],
   "source": [
    "org = soup.find(id = 'Finance')"
   ]
  },
  {
   "cell_type": "code",
   "execution_count": 175,
   "id": "0e3bff23",
   "metadata": {},
   "outputs": [
    {
     "data": {
      "text/plain": [
       "<ul id=\"Finance\">\n",
       "<li class=\"FinanceManager\">\n",
       "<div class=\"name\">Jack</div>\n",
       "<div class=\"ID\">094</div>\n",
       "</li>\n",
       "</ul>"
      ]
     },
     "execution_count": 175,
     "metadata": {},
     "output_type": "execute_result"
    }
   ],
   "source": [
    "org"
   ]
  },
  {
   "cell_type": "code",
   "execution_count": 176,
   "id": "06ad1c6d",
   "metadata": {},
   "outputs": [],
   "source": [
    "next_sibling = org.findNextSiblings()"
   ]
  },
  {
   "cell_type": "code",
   "execution_count": 177,
   "id": "8cdbb935",
   "metadata": {},
   "outputs": [
    {
     "data": {
      "text/plain": [
       "[<ul id=\"IT\">\n",
       " <li class=\"ITmanager\">\n",
       " <div class=\"name\">Kelly</div>\n",
       " <div class=\"ID\">011</div>\n",
       " </li>\n",
       " </ul>]"
      ]
     },
     "execution_count": 177,
     "metadata": {},
     "output_type": "execute_result"
    }
   ],
   "source": [
    "next_sibling"
   ]
  },
  {
   "cell_type": "code",
   "execution_count": 178,
   "id": "9a8280ca",
   "metadata": {},
   "outputs": [],
   "source": [
    "parent = org.findParents"
   ]
  },
  {
   "cell_type": "code",
   "execution_count": 179,
   "id": "01afca41",
   "metadata": {},
   "outputs": [
    {
     "data": {
      "text/plain": [
       "<bound method PageElement.find_parents of <ul id=\"Finance\">\n",
       "<li class=\"FinanceManager\">\n",
       "<div class=\"name\">Jack</div>\n",
       "<div class=\"ID\">094</div>\n",
       "</li>\n",
       "</ul>>"
      ]
     },
     "execution_count": 179,
     "metadata": {},
     "output_type": "execute_result"
    }
   ],
   "source": [
    "parent"
   ]
  },
  {
   "cell_type": "code",
   "execution_count": 186,
   "id": "62ad355a",
   "metadata": {},
   "outputs": [],
   "source": [
    "all_previous = org.findAllPrevious()"
   ]
  },
  {
   "cell_type": "code",
   "execution_count": 187,
   "id": "8ce9a2bf",
   "metadata": {},
   "outputs": [
    {
     "data": {
      "text/plain": [
       "[<div class=\"ID\">097</div>,\n",
       " <div class=\"name\">John</div>,\n",
       " <li class=\"HRManager\">\n",
       " <div class=\"name\">John</div>\n",
       " <div class=\"ID\">097</div>\n",
       " </li>,\n",
       " <div class=\"ID\">097</div>,\n",
       " <div class=\"name\">Joseph</div>,\n",
       " <li class=\"HRManager\">\n",
       " <div class=\"name\">Joseph</div>\n",
       " <div class=\"ID\">097</div>\n",
       " </li>,\n",
       " <ul id=\"HR\">\n",
       " <li class=\"HRManager\">\n",
       " <div class=\"name\">Joseph</div>\n",
       " <div class=\"ID\">097</div>\n",
       " </li>\n",
       " <li class=\"HRManager\">\n",
       " <div class=\"name\">John</div>\n",
       " <div class=\"ID\">097</div>\n",
       " </li>\n",
       " </ul>,\n",
       " <h2>London</h2>,\n",
       " <div class=\"cities\">\n",
       " <h2>London</h2>\n",
       " </div>,\n",
       " <p class=\"Test\" title=\"About Me\">My first pragraph.</p>,\n",
       " <b><!--This is a comment line --></b>,\n",
       " <h1>My Fist Heading</h1>,\n",
       " <body>\n",
       " <h1>My Fist Heading</h1>\n",
       " <b><!--This is a comment line --></b>\n",
       " <p class=\"Test\" title=\"About Me\">My first pragraph.</p>\n",
       " <div class=\"cities\">\n",
       " <h2>London</h2>\n",
       " </div>\n",
       " <ul id=\"HR\">\n",
       " <li class=\"HRManager\">\n",
       " <div class=\"name\">Joseph</div>\n",
       " <div class=\"ID\">097</div>\n",
       " </li>\n",
       " <li class=\"HRManager\">\n",
       " <div class=\"name\">John</div>\n",
       " <div class=\"ID\">097</div>\n",
       " </li>\n",
       " </ul>\n",
       " <ul id=\"Finance\">\n",
       " <li class=\"FinanceManager\">\n",
       " <div class=\"name\">Jack</div>\n",
       " <div class=\"ID\">094</div>\n",
       " </li>\n",
       " </ul>\n",
       " <ul id=\"IT\">\n",
       " <li class=\"ITmanager\">\n",
       " <div class=\"name\">Kelly</div>\n",
       " <div class=\"ID\">011</div>\n",
       " </li>\n",
       " </ul>\n",
       " </body>,\n",
       " <html>\n",
       " <body>\n",
       " <h1>My Fist Heading</h1>\n",
       " <b><!--This is a comment line --></b>\n",
       " <p class=\"Test\" title=\"About Me\">My first pragraph.</p>\n",
       " <div class=\"cities\">\n",
       " <h2>London</h2>\n",
       " </div>\n",
       " <ul id=\"HR\">\n",
       " <li class=\"HRManager\">\n",
       " <div class=\"name\">Joseph</div>\n",
       " <div class=\"ID\">097</div>\n",
       " </li>\n",
       " <li class=\"HRManager\">\n",
       " <div class=\"name\">John</div>\n",
       " <div class=\"ID\">097</div>\n",
       " </li>\n",
       " </ul>\n",
       " <ul id=\"Finance\">\n",
       " <li class=\"FinanceManager\">\n",
       " <div class=\"name\">Jack</div>\n",
       " <div class=\"ID\">094</div>\n",
       " </li>\n",
       " </ul>\n",
       " <ul id=\"IT\">\n",
       " <li class=\"ITmanager\">\n",
       " <div class=\"name\">Kelly</div>\n",
       " <div class=\"ID\">011</div>\n",
       " </li>\n",
       " </ul>\n",
       " </body></html>]"
      ]
     },
     "execution_count": 187,
     "metadata": {},
     "output_type": "execute_result"
    }
   ],
   "source": [
    "all_previous"
   ]
  },
  {
   "cell_type": "code",
   "execution_count": 188,
   "id": "305553f9",
   "metadata": {},
   "outputs": [],
   "source": [
    "previous_sibling = org.findPreviousSibling()"
   ]
  },
  {
   "cell_type": "code",
   "execution_count": 189,
   "id": "d4e021b0",
   "metadata": {},
   "outputs": [
    {
     "data": {
      "text/plain": [
       "<ul id=\"HR\">\n",
       "<li class=\"HRManager\">\n",
       "<div class=\"name\">Joseph</div>\n",
       "<div class=\"ID\">097</div>\n",
       "</li>\n",
       "<li class=\"HRManager\">\n",
       "<div class=\"name\">John</div>\n",
       "<div class=\"ID\">097</div>\n",
       "</li>\n",
       "</ul>"
      ]
     },
     "execution_count": 189,
     "metadata": {},
     "output_type": "execute_result"
    }
   ],
   "source": [
    "previous_sibling"
   ]
  },
  {
   "cell_type": "code",
   "execution_count": 190,
   "id": "04c01abd",
   "metadata": {},
   "outputs": [],
   "source": [
    "all_next = org.findAllNext()"
   ]
  },
  {
   "cell_type": "code",
   "execution_count": 191,
   "id": "5d6aa1e4",
   "metadata": {},
   "outputs": [
    {
     "data": {
      "text/plain": [
       "[<li class=\"FinanceManager\">\n",
       " <div class=\"name\">Jack</div>\n",
       " <div class=\"ID\">094</div>\n",
       " </li>,\n",
       " <div class=\"name\">Jack</div>,\n",
       " <div class=\"ID\">094</div>,\n",
       " <ul id=\"IT\">\n",
       " <li class=\"ITmanager\">\n",
       " <div class=\"name\">Kelly</div>\n",
       " <div class=\"ID\">011</div>\n",
       " </li>\n",
       " </ul>,\n",
       " <li class=\"ITmanager\">\n",
       " <div class=\"name\">Kelly</div>\n",
       " <div class=\"ID\">011</div>\n",
       " </li>,\n",
       " <div class=\"name\">Kelly</div>,\n",
       " <div class=\"ID\">011</div>]"
      ]
     },
     "execution_count": 191,
     "metadata": {},
     "output_type": "execute_result"
    }
   ],
   "source": [
    "all_next"
   ]
  },
  {
   "cell_type": "code",
   "execution_count": 194,
   "id": "5e4b6fd2",
   "metadata": {},
   "outputs": [
    {
     "name": "stdout",
     "output_type": "stream",
     "text": [
      "\n",
      "abc@example.com\n",
      "\n"
     ]
    }
   ],
   "source": [
    "import re\n",
    "email_example = \"\"\"<br/>\n",
    "<p>my email id is </p>\n",
    "abc@example.com\n",
    "\"\"\"\n",
    "soup_email = BeautifulSoup(email_example, \"lxml\")\n",
    "emailId_regexp = re.compile(\"\\w+@\\w+.\\w+\")\n",
    "email_id = soup_email.find(text = emailId_regexp)\n",
    "print(email_id)"
   ]
  },
  {
   "cell_type": "code",
   "execution_count": null,
   "id": "987dfe75",
   "metadata": {},
   "outputs": [],
   "source": []
  }
 ],
 "metadata": {
  "kernelspec": {
   "display_name": "Python 3",
   "language": "python",
   "name": "python3"
  },
  "language_info": {
   "codemirror_mode": {
    "name": "ipython",
    "version": 3
   },
   "file_extension": ".py",
   "mimetype": "text/x-python",
   "name": "python",
   "nbconvert_exporter": "python",
   "pygments_lexer": "ipython3",
   "version": "3.8.8"
  }
 },
 "nbformat": 4,
 "nbformat_minor": 5
}
