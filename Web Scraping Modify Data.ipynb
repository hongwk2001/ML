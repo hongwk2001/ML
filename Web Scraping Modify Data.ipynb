{
 "cells": [
  {
   "cell_type": "code",
   "execution_count": 40,
   "id": "f83b707b",
   "metadata": {},
   "outputs": [],
   "source": [
    "from bs4 import BeautifulSoup"
   ]
  },
  {
   "cell_type": "code",
   "execution_count": 41,
   "id": "f67790ae",
   "metadata": {},
   "outputs": [],
   "source": [
    "employee_html_doc = \"\"\"<employees>\n",
    "    <employee class=\"accountant\">\n",
    "        <firstName>John</firstName>\n",
    "        <lastName>Doe</lastName></employee>\n",
    "    <employee class=\"Manager\">\n",
    "        <firstName>Anna</firstName>\n",
    "        <lastName>Smith</lastName></employee>\n",
    "    <employee class=\"Developer\">\n",
    "        <firstName>Peter</firstName>\n",
    "        <lastName>Jones</lastName></employee>\n",
    "</employees>\"\"\""
   ]
  },
  {
   "cell_type": "code",
   "execution_count": 42,
   "id": "e6bd9b3e",
   "metadata": {},
   "outputs": [],
   "source": [
    "soup_emp =BeautifulSoup ( employee_html_doc, \"html.parser\")"
   ]
  },
  {
   "cell_type": "code",
   "execution_count": 43,
   "id": "7502f1d5",
   "metadata": {},
   "outputs": [],
   "source": [
    "tag = soup_emp.employee"
   ]
  },
  {
   "cell_type": "code",
   "execution_count": 44,
   "id": "4b724d01",
   "metadata": {},
   "outputs": [
    {
     "data": {
      "text/plain": [
       "<employee class=\"accountant\">\n",
       "<firstname>John</firstname>\n",
       "<lastname>Doe</lastname></employee>"
      ]
     },
     "execution_count": 44,
     "metadata": {},
     "output_type": "execute_result"
    }
   ],
   "source": [
    "tag"
   ]
  },
  {
   "cell_type": "code",
   "execution_count": 45,
   "id": "cca1413a",
   "metadata": {},
   "outputs": [
    {
     "data": {
      "text/plain": [
       "<employee class=\"Manager\">\n",
       "<firstname>John</firstname>\n",
       "<lastname>Doe</lastname></employee>"
      ]
     },
     "execution_count": 45,
     "metadata": {},
     "output_type": "execute_result"
    }
   ],
   "source": [
    "tag['class'] = 'Manager'\n",
    "tag"
   ]
  },
  {
   "cell_type": "code",
   "execution_count": 46,
   "id": "1ba7599c",
   "metadata": {},
   "outputs": [
    {
     "data": {
      "text/plain": [
       "<employees>\n",
       "<employee class=\"Manager\">\n",
       "<firstname>John</firstname>\n",
       "<lastname>Doe</lastname></employee>\n",
       "<employee class=\"Manager\">\n",
       "<firstname>Anna</firstname>\n",
       "<lastname>Smith</lastname></employee>\n",
       "<employee class=\"Developer\">\n",
       "<firstname>Peter</firstname>\n",
       "<lastname>Jones</lastname></employee>\n",
       "</employees>"
      ]
     },
     "execution_count": 46,
     "metadata": {},
     "output_type": "execute_result"
    }
   ],
   "source": [
    "soup_emp"
   ]
  },
  {
   "cell_type": "code",
   "execution_count": 47,
   "id": "2724e873",
   "metadata": {},
   "outputs": [],
   "source": [
    "tag = soup_emp.new_tag('rank')\n",
    "tag.string = 'Manager 1'\n",
    "soup_emp.employees.employee.insert_after(tag)"
   ]
  },
  {
   "cell_type": "code",
   "execution_count": 48,
   "id": "572d6383",
   "metadata": {},
   "outputs": [
    {
     "data": {
      "text/plain": [
       "<employees>\n",
       "<employee class=\"Manager\">\n",
       "<firstname>John</firstname>\n",
       "<lastname>Doe</lastname></employee><rank>Manager 1</rank>\n",
       "<employee class=\"Manager\">\n",
       "<firstname>Anna</firstname>\n",
       "<lastname>Smith</lastname></employee>\n",
       "<employee class=\"Developer\">\n",
       "<firstname>Peter</firstname>\n",
       "<lastname>Jones</lastname></employee>\n",
       "</employees>"
      ]
     },
     "execution_count": 48,
     "metadata": {},
     "output_type": "execute_result"
    }
   ],
   "source": [
    "soup_emp"
   ]
  },
  {
   "cell_type": "code",
   "execution_count": 49,
   "id": "78ef5216",
   "metadata": {},
   "outputs": [
    {
     "data": {
      "text/plain": [
       "<rank></rank>"
      ]
     },
     "execution_count": 49,
     "metadata": {},
     "output_type": "execute_result"
    }
   ],
   "source": [
    "tag.clear()\n",
    "tag"
   ]
  },
  {
   "cell_type": "code",
   "execution_count": 50,
   "id": "92402721",
   "metadata": {},
   "outputs": [
    {
     "data": {
      "text/plain": [
       "<employees>\n",
       "<employee class=\"Manager\">\n",
       "<firstname>John</firstname>\n",
       "<lastname>Doe</lastname></employee><rank></rank>\n",
       "<employee class=\"Manager\">\n",
       "<firstname>Anna</firstname>\n",
       "<lastname>Smith</lastname></employee>\n",
       "<employee class=\"Developer\">\n",
       "<firstname>Peter</firstname>\n",
       "<lastname>Jones</lastname></employee>\n",
       "</employees>"
      ]
     },
     "execution_count": 50,
     "metadata": {},
     "output_type": "execute_result"
    }
   ],
   "source": [
    "soup_emp"
   ]
  },
  {
   "cell_type": "code",
   "execution_count": 51,
   "id": "024b88db",
   "metadata": {},
   "outputs": [
    {
     "data": {
      "text/plain": [
       "<employee class=\"Manager\">\n",
       "<firstname>John</firstname>\n",
       "<lastname>Doe</lastname></employee>"
      ]
     },
     "execution_count": 51,
     "metadata": {},
     "output_type": "execute_result"
    }
   ],
   "source": [
    "# this is pointer rather than new variable\n",
    "tag = soup_emp.employees.employee\n",
    "tag"
   ]
  },
  {
   "cell_type": "code",
   "execution_count": 52,
   "id": "f25d87a3",
   "metadata": {},
   "outputs": [
    {
     "data": {
      "text/plain": [
       "'John'"
      ]
     },
     "execution_count": 52,
     "metadata": {},
     "output_type": "execute_result"
    }
   ],
   "source": [
    "tag.firstname.string.extract()"
   ]
  },
  {
   "cell_type": "code",
   "execution_count": 53,
   "id": "4826fb98",
   "metadata": {},
   "outputs": [
    {
     "data": {
      "text/plain": [
       "<firstname></firstname>"
      ]
     },
     "execution_count": 53,
     "metadata": {},
     "output_type": "execute_result"
    }
   ],
   "source": [
    "tag.firstname.replace_with('John 2')"
   ]
  },
  {
   "cell_type": "code",
   "execution_count": 54,
   "id": "ec038f95",
   "metadata": {},
   "outputs": [
    {
     "data": {
      "text/plain": [
       "<employee class=\"Manager\">\n",
       "John 2\n",
       "<lastname>Doe</lastname></employee>"
      ]
     },
     "execution_count": 54,
     "metadata": {},
     "output_type": "execute_result"
    }
   ],
   "source": [
    "tag"
   ]
  },
  {
   "cell_type": "code",
   "execution_count": 55,
   "id": "f29296c0",
   "metadata": {},
   "outputs": [
    {
     "data": {
      "text/plain": [
       "<employees>\n",
       "<employee class=\"Manager\">\n",
       "John 2\n",
       "<lastname>Doe</lastname></employee><rank></rank>\n",
       "<employee class=\"Manager\">\n",
       "<firstname>Anna</firstname>\n",
       "<lastname>Smith</lastname></employee>\n",
       "<employee class=\"Developer\">\n",
       "<firstname>Peter</firstname>\n",
       "<lastname>Jones</lastname></employee>\n",
       "</employees>"
      ]
     },
     "execution_count": 55,
     "metadata": {},
     "output_type": "execute_result"
    }
   ],
   "source": [
    "soup_emp.employees"
   ]
  },
  {
   "cell_type": "code",
   "execution_count": null,
   "id": "52682933",
   "metadata": {},
   "outputs": [],
   "source": []
  }
 ],
 "metadata": {
  "kernelspec": {
   "display_name": "Python 3",
   "language": "python",
   "name": "python3"
  },
  "language_info": {
   "codemirror_mode": {
    "name": "ipython",
    "version": 3
   },
   "file_extension": ".py",
   "mimetype": "text/x-python",
   "name": "python",
   "nbconvert_exporter": "python",
   "pygments_lexer": "ipython3",
   "version": "3.8.8"
  }
 },
 "nbformat": 4,
 "nbformat_minor": 5
}
