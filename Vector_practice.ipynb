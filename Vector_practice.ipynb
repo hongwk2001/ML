{
 "cells": [
  {
   "cell_type": "code",
   "execution_count": 14,
   "id": "20b1baa1",
   "metadata": {},
   "outputs": [],
   "source": [
    "import numpy as np"
   ]
  },
  {
   "cell_type": "code",
   "execution_count": 15,
   "id": "d85a78e1",
   "metadata": {},
   "outputs": [],
   "source": [
    "from scipy import linalg"
   ]
  },
  {
   "cell_type": "code",
   "execution_count": 16,
   "id": "91d5776b",
   "metadata": {},
   "outputs": [],
   "source": [
    "#test_data Matrix - (rating on scale of 10)\n",
    "test_rating_data = np.array([[5,8],[7,9]])"
   ]
  },
  {
   "cell_type": "code",
   "execution_count": 17,
   "id": "8aa86766",
   "metadata": {},
   "outputs": [],
   "source": [
    "eigenValues, eigenVector = linalg.eig(test_rating_data)"
   ]
  },
  {
   "cell_type": "code",
   "execution_count": 18,
   "id": "b283e09f",
   "metadata": {},
   "outputs": [],
   "source": [
    "first_eigen, second_eigen = eigenValues "
   ]
  },
  {
   "cell_type": "code",
   "execution_count": 20,
   "id": "b8a69f62",
   "metadata": {},
   "outputs": [
    {
     "name": "stdout",
     "output_type": "stream",
     "text": [
      "(-0.745966692414834+0j) (14.745966692414834+0j)\n"
     ]
    }
   ],
   "source": [
    "print (first_eigen, second_eigen )"
   ]
  },
  {
   "cell_type": "code",
   "execution_count": 27,
   "id": "55a5bea4",
   "metadata": {},
   "outputs": [
    {
     "name": "stdout",
     "output_type": "stream",
     "text": [
      "[-0.81220939  0.58336601]\n"
     ]
    }
   ],
   "source": [
    "print(eigenVector[:,0])"
   ]
  },
  {
   "cell_type": "code",
   "execution_count": 28,
   "id": "61c4f7d9",
   "metadata": {},
   "outputs": [
    {
     "name": "stdout",
     "output_type": "stream",
     "text": [
      "[-0.63447346 -0.77294465]\n"
     ]
    }
   ],
   "source": [
    "print(eigenVector[:,1])"
   ]
  },
  {
   "cell_type": "code",
   "execution_count": 26,
   "id": "8bbb14b3",
   "metadata": {},
   "outputs": [
    {
     "name": "stdout",
     "output_type": "stream",
     "text": [
      "[[-0.81220939 -0.63447346]\n",
      " [ 0.58336601 -0.77294465]]\n"
     ]
    }
   ],
   "source": [
    "print(eigenVector)"
   ]
  },
  {
   "cell_type": "code",
   "execution_count": null,
   "id": "3f7385be",
   "metadata": {},
   "outputs": [],
   "source": []
  }
 ],
 "metadata": {
  "kernelspec": {
   "display_name": "Python 3",
   "language": "python",
   "name": "python3"
  },
  "language_info": {
   "codemirror_mode": {
    "name": "ipython",
    "version": 3
   },
   "file_extension": ".py",
   "mimetype": "text/x-python",
   "name": "python",
   "nbconvert_exporter": "python",
   "pygments_lexer": "ipython3",
   "version": "3.8.8"
  }
 },
 "nbformat": 4,
 "nbformat_minor": 5
}
