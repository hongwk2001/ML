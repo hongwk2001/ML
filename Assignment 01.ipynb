{
 "cells": [
  {
   "cell_type": "markdown",
   "metadata": {},
   "source": [
    "<img src=\"http://cfs22.simplicdn.net/ice9/new_logo.svgz \"/>\n",
    "\n",
    "# Assignment 01: Evaluate the GDP Dataset\n",
    "\n",
    "*The comments/sections provided are your cues to perform the assignment. You don't need to limit yourself to the number of rows/cells provided. You can add additional rows in each section to add more lines of code.*\n",
    "\n",
    "*If at any point in time you need help on solving this assignment, view our demo video to understand the different steps of the code.*\n",
    "\n",
    "**Happy coding!**\n",
    "\n",
    "* * *"
   ]
  },
  {
   "cell_type": "markdown",
   "metadata": {},
   "source": [
    "#### 1: View and add the dataset"
   ]
  },
  {
   "cell_type": "code",
   "execution_count": 1,
   "metadata": {},
   "outputs": [],
   "source": [
    "#Import reqimpuired library\n",
    "import numpy as np\n"
   ]
  },
  {
   "cell_type": "code",
   "execution_count": 2,
   "metadata": {},
   "outputs": [],
   "source": [
    "#Manually add the dataset\n",
    "countries=np.array(['Algeria','Angola','Argentina','Australia','Austria','Bahamas','Bangladesh','Belarus','Belgium','Bhutan','Brazil','Bulgaria','Cambodia','Cameroon','Chile','China','Colombia','Cyprus','Denmark','El Salvador','Estonia','Ethiopia','Fiji','Finland','France','Georgia','Ghana','Grenada','Guinea','Haiti','Honduras','Hungary','India','Indonesia','Ireland','Italy','Japan','Kenya', 'South Korea','Liberia','Malaysia','Mexico', 'Morocco','Nepal','New Zealand','Norway','Pakistan', 'Peru','Qatar','Russia','Singapore','South Africa','Spain','Sweden','Switzerland','Thailand', 'United Arab Emirates','United Kingdom','United States','Uruguay','Venezuela','Vietnam','Zimbabwe'])"
   ]
  },
  {
   "cell_type": "code",
   "execution_count": 4,
   "metadata": {},
   "outputs": [],
   "source": [
    "gdp_per_capita=np.array([2255.225482,629.9553062,11601.63022,25306.82494,27266.40335,19466.99052,588.3691778,2890.345675,24733.62696,1445.760002,4803.398244,2618.876037,590.4521124,665.7982328,7122.938458,2639.54156,3362.4656,15378.16704,30860.12808,2579.115607,6525.541272,229.6769525,2242.689259,27570.4852,23016.84778,1334.646773,402.6953275,6047.200797,394.1156638,385.5793827,1414.072488,5745.981529,837.7464011,1206.991065,27715.52837,18937.24998,39578.07441,478.2194906,16684.21278,279.2204061,5345.213415,6288.25324,1908.304416,274.8728621,14646.42094,40034.85063,672.1547506,3359.517402,36152.66676,3054.727742,33529.83052,3825.093781,15428.32098,33630.24604,39170.41371,2699.123242,21058.43643,28272.40661,37691.02733,9581.05659,5671.912202,757.4009286,347.7456605])"
   ]
  },
  {
   "cell_type": "markdown",
   "metadata": {
    "collapsed": true
   },
   "source": [
    "#### 2: Find and print the name of the country with the highest GDP"
   ]
  },
  {
   "cell_type": "code",
   "execution_count": 6,
   "metadata": {},
   "outputs": [],
   "source": [
    "#Use the argmax() method to find the highest GDP\n",
    "max_gdp_per_capita=gdp_per_capita.argmax()"
   ]
  },
  {
   "cell_type": "code",
   "execution_count": 9,
   "metadata": {},
   "outputs": [
    {
     "data": {
      "text/plain": [
       "'Norway'"
      ]
     },
     "execution_count": 9,
     "metadata": {},
     "output_type": "execute_result"
    }
   ],
   "source": [
    "#Print the name of the country\n",
    "country_with_max_gdp_per_capita=countries[max_gdp_per_capita]\n",
    "country_with_max_gdp_per_capita"
   ]
  },
  {
   "cell_type": "markdown",
   "metadata": {},
   "source": [
    "#### 3: Find and print the name of the country with the lowest GDP"
   ]
  },
  {
   "cell_type": "code",
   "execution_count": 10,
   "metadata": {},
   "outputs": [
    {
     "data": {
      "text/plain": [
       "21"
      ]
     },
     "execution_count": 10,
     "metadata": {},
     "output_type": "execute_result"
    }
   ],
   "source": [
    "#Use the argmin() method to find the lowest GDP\n",
    "min_gdp_percapita=gdp_per_capita.argmin()\n",
    "min_gdp_percapita"
   ]
  },
  {
   "cell_type": "code",
   "execution_count": 11,
   "metadata": {},
   "outputs": [
    {
     "data": {
      "text/plain": [
       "'Ethiopia'"
      ]
     },
     "execution_count": 11,
     "metadata": {},
     "output_type": "execute_result"
    }
   ],
   "source": [
    "#Print the name of the country\n",
    "country_with_min_gdp_per_capita=countries[min_gdp_percapita]\n",
    "country_with_min_gdp_per_capita"
   ]
  },
  {
   "cell_type": "markdown",
   "metadata": {},
   "source": [
    "#### 4: Print out text ('evaluating country') and input value ('country name') iteratively"
   ]
  },
  {
   "cell_type": "code",
   "execution_count": 12,
   "metadata": {},
   "outputs": [
    {
     "name": "stdout",
     "output_type": "stream",
     "text": [
      "esaclating count Algeria\n",
      "esaclating count Angola\n",
      "esaclating count Argentina\n",
      "esaclating count Australia\n",
      "esaclating count Austria\n",
      "esaclating count Bahamas\n",
      "esaclating count Bangladesh\n",
      "esaclating count Belarus\n",
      "esaclating count Belgium\n",
      "esaclating count Bhutan\n",
      "esaclating count Brazil\n",
      "esaclating count Bulgaria\n",
      "esaclating count Cambodia\n",
      "esaclating count Cameroon\n",
      "esaclating count Chile\n",
      "esaclating count China\n",
      "esaclating count Colombia\n",
      "esaclating count Cyprus\n",
      "esaclating count Denmark\n",
      "esaclating count El Salvador\n",
      "esaclating count Estonia\n",
      "esaclating count Ethiopia\n",
      "esaclating count Fiji\n",
      "esaclating count Finland\n",
      "esaclating count France\n",
      "esaclating count Georgia\n",
      "esaclating count Ghana\n",
      "esaclating count Grenada\n",
      "esaclating count Guinea\n",
      "esaclating count Haiti\n",
      "esaclating count Honduras\n",
      "esaclating count Hungary\n",
      "esaclating count India\n",
      "esaclating count Indonesia\n",
      "esaclating count Ireland\n",
      "esaclating count Italy\n",
      "esaclating count Japan\n",
      "esaclating count Kenya\n",
      "esaclating count South Korea\n",
      "esaclating count Liberia\n",
      "esaclating count Malaysia\n",
      "esaclating count Mexico\n",
      "esaclating count Morocco\n",
      "esaclating count Nepal\n",
      "esaclating count New Zealand\n",
      "esaclating count Norway\n",
      "esaclating count Pakistan\n",
      "esaclating count Peru\n",
      "esaclating count Qatar\n",
      "esaclating count Russia\n",
      "esaclating count Singapore\n",
      "esaclating count South Africa\n",
      "esaclating count Spain\n",
      "esaclating count Sweden\n",
      "esaclating count Switzerland\n",
      "esaclating count Thailand\n",
      "esaclating count United Arab Emirates\n",
      "esaclating count United Kingdom\n",
      "esaclating count United States\n",
      "esaclating count Uruguay\n",
      "esaclating count Venezuela\n",
      "esaclating count Vietnam\n",
      "esaclating count Zimbabwe\n"
     ]
    }
   ],
   "source": [
    "#Use a for loop to print the required output\n",
    "for country in countries:\n",
    "    print(\"esaclating count\" , country)"
   ]
  },
  {
   "cell_type": "markdown",
   "metadata": {},
   "source": [
    "#### 5: Print out the entire list of the countries with their GDPs"
   ]
  },
  {
   "cell_type": "code",
   "execution_count": 13,
   "metadata": {},
   "outputs": [
    {
     "name": "stdout",
     "output_type": "stream",
     "text": [
      "countri  Algeria  per capita gdp is  2255.225482\n",
      "countri  Angola  per capita gdp is  629.9553062\n",
      "countri  Argentina  per capita gdp is  11601.63022\n",
      "countri  Australia  per capita gdp is  25306.82494\n",
      "countri  Austria  per capita gdp is  27266.40335\n",
      "countri  Bahamas  per capita gdp is  19466.99052\n",
      "countri  Bangladesh  per capita gdp is  588.3691778\n",
      "countri  Belarus  per capita gdp is  2890.345675\n",
      "countri  Belgium  per capita gdp is  24733.62696\n",
      "countri  Bhutan  per capita gdp is  1445.760002\n",
      "countri  Brazil  per capita gdp is  4803.398244\n",
      "countri  Bulgaria  per capita gdp is  2618.876037\n",
      "countri  Cambodia  per capita gdp is  590.4521124\n",
      "countri  Cameroon  per capita gdp is  665.7982328\n",
      "countri  Chile  per capita gdp is  7122.938458\n",
      "countri  China  per capita gdp is  2639.54156\n",
      "countri  Colombia  per capita gdp is  3362.4656\n",
      "countri  Cyprus  per capita gdp is  15378.16704\n",
      "countri  Denmark  per capita gdp is  30860.12808\n",
      "countri  El Salvador  per capita gdp is  2579.115607\n",
      "countri  Estonia  per capita gdp is  6525.541272\n",
      "countri  Ethiopia  per capita gdp is  229.6769525\n",
      "countri  Fiji  per capita gdp is  2242.689259\n",
      "countri  Finland  per capita gdp is  27570.4852\n",
      "countri  France  per capita gdp is  23016.84778\n",
      "countri  Georgia  per capita gdp is  1334.646773\n",
      "countri  Ghana  per capita gdp is  402.6953275\n",
      "countri  Grenada  per capita gdp is  6047.200797\n",
      "countri  Guinea  per capita gdp is  394.1156638\n",
      "countri  Haiti  per capita gdp is  385.5793827\n",
      "countri  Honduras  per capita gdp is  1414.072488\n",
      "countri  Hungary  per capita gdp is  5745.981529\n",
      "countri  India  per capita gdp is  837.7464011\n",
      "countri  Indonesia  per capita gdp is  1206.991065\n",
      "countri  Ireland  per capita gdp is  27715.52837\n",
      "countri  Italy  per capita gdp is  18937.24998\n",
      "countri  Japan  per capita gdp is  39578.07441\n",
      "countri  Kenya  per capita gdp is  478.2194906\n",
      "countri  South Korea  per capita gdp is  16684.21278\n",
      "countri  Liberia  per capita gdp is  279.2204061\n",
      "countri  Malaysia  per capita gdp is  5345.213415\n",
      "countri  Mexico  per capita gdp is  6288.25324\n",
      "countri  Morocco  per capita gdp is  1908.304416\n",
      "countri  Nepal  per capita gdp is  274.8728621\n",
      "countri  New Zealand  per capita gdp is  14646.42094\n",
      "countri  Norway  per capita gdp is  40034.85063\n",
      "countri  Pakistan  per capita gdp is  672.1547506\n",
      "countri  Peru  per capita gdp is  3359.517402\n",
      "countri  Qatar  per capita gdp is  36152.66676\n",
      "countri  Russia  per capita gdp is  3054.727742\n",
      "countri  Singapore  per capita gdp is  33529.83052\n",
      "countri  South Africa  per capita gdp is  3825.093781\n",
      "countri  Spain  per capita gdp is  15428.32098\n",
      "countri  Sweden  per capita gdp is  33630.24604\n",
      "countri  Switzerland  per capita gdp is  39170.41371\n",
      "countri  Thailand  per capita gdp is  2699.123242\n",
      "countri  United Arab Emirates  per capita gdp is  21058.43643\n",
      "countri  United Kingdom  per capita gdp is  28272.40661\n",
      "countri  United States  per capita gdp is  37691.02733\n",
      "countri  Uruguay  per capita gdp is  9581.05659\n",
      "countri  Venezuela  per capita gdp is  5671.912202\n",
      "countri  Vietnam  per capita gdp is  757.4009286\n",
      "countri  Zimbabwe  per capita gdp is  347.7456605\n"
     ]
    }
   ],
   "source": [
    "#Use a for loop to print the required list\n",
    "for i in range (len(countries)):\n",
    "    country= countries[i]\n",
    "    country_dgp_per_capita= gdp_per_capita[i]\n",
    "    print ( \"countri \", country, \" per capita gdp is \", country_dgp_per_capita )"
   ]
  },
  {
   "cell_type": "markdown",
   "metadata": {},
   "source": [
    "#### 6: Print the following:\n",
    "1. Highest GPD value\n",
    "2. Lowest GDP value\n",
    "3. Mean GDP value\n",
    "4. Standardized GDP value\n",
    "5. Sum of all the GDPs"
   ]
  },
  {
   "cell_type": "code",
   "execution_count": 14,
   "metadata": {},
   "outputs": [
    {
     "name": "stdout",
     "output_type": "stream",
     "text": [
      "40034.85063\n",
      "229.6769525\n",
      "11289.409271639683\n",
      "12743.828910617945\n",
      "711232.7841133\n"
     ]
    }
   ],
   "source": [
    "print(gdp_per_capita.max())\n",
    "print(gdp_per_capita.min())\n",
    "print(gdp_per_capita.mean())\n",
    "print(gdp_per_capita.std())\n",
    "print(gdp_per_capita.sum())"
   ]
  },
  {
   "cell_type": "code",
   "execution_count": null,
   "metadata": {},
   "outputs": [],
   "source": []
  }
 ],
 "metadata": {
  "kernelspec": {
   "display_name": "Python 3",
   "language": "python",
   "name": "python3"
  },
  "language_info": {
   "codemirror_mode": {
    "name": "ipython",
    "version": 3
   },
   "file_extension": ".py",
   "mimetype": "text/x-python",
   "name": "python",
   "nbconvert_exporter": "python",
   "pygments_lexer": "ipython3",
   "version": "3.8.8"
  }
 },
 "nbformat": 4,
 "nbformat_minor": 1
}
