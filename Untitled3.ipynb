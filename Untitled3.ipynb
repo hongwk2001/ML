{
 "cells": [
  {
   "cell_type": "code",
   "execution_count": 13,
   "id": "04073680",
   "metadata": {},
   "outputs": [
    {
     "name": "stdout",
     "output_type": "stream",
     "text": [
      "Requirement already satisfied: pyspark in c:\\users\\hongw\\anaconda3\\lib\\site-packages (3.2.0)\n",
      "Requirement already satisfied: py4j==0.10.9.2 in c:\\users\\hongw\\anaconda3\\lib\\site-packages (from pyspark) (0.10.9.2)\n",
      "Note: you may need to restart the kernel to use updated packages.\n"
     ]
    }
   ],
   "source": [
    "pip install pyspark"
   ]
  },
  {
   "cell_type": "code",
   "execution_count": 14,
   "id": "cfa10d1c",
   "metadata": {},
   "outputs": [],
   "source": [
    "from pyspark.context import SparkContext as sc"
   ]
  },
  {
   "cell_type": "code",
   "execution_count": 15,
   "id": "bcda8038",
   "metadata": {},
   "outputs": [
    {
     "data": {
      "text/plain": [
       "pyspark.context.SparkContext"
      ]
     },
     "execution_count": 15,
     "metadata": {},
     "output_type": "execute_result"
    }
   ],
   "source": [
    "sc"
   ]
  },
  {
   "cell_type": "code",
   "execution_count": 16,
   "id": "a23abf59",
   "metadata": {},
   "outputs": [],
   "source": [
    "import os"
   ]
  },
  {
   "cell_type": "code",
   "execution_count": 17,
   "id": "81a519c2",
   "metadata": {},
   "outputs": [
    {
     "data": {
      "text/plain": [
       "'C:\\\\Users\\\\hongw\\\\Downloads\\\\Data science Assignments\\\\Lesson 12 -2\\\\\"\\\\Airport.csv'"
      ]
     },
     "execution_count": 17,
     "metadata": {},
     "output_type": "execute_result"
    }
   ],
   "source": [
    "path = os.path.join(r\"C:\\Users\\hongw\\Downloads\\Data science Assignments\\Lesson 12 -2\\\"\", \"Airport.csv\")\n",
    "path"
   ]
  },
  {
   "cell_type": "code",
   "execution_count": 18,
   "id": "2de5f39a",
   "metadata": {},
   "outputs": [
    {
     "ename": "TypeError",
     "evalue": "textFile() missing 1 required positional argument: 'name'",
     "output_type": "error",
     "traceback": [
      "\u001b[1;31m---------------------------------------------------------------------------\u001b[0m",
      "\u001b[1;31mTypeError\u001b[0m                                 Traceback (most recent call last)",
      "\u001b[1;32m<ipython-input-18-dadfc4a3fead>\u001b[0m in \u001b[0;36m<module>\u001b[1;34m\u001b[0m\n\u001b[1;32m----> 1\u001b[1;33m \u001b[0mdatafile\u001b[0m \u001b[1;33m=\u001b[0m \u001b[0msc\u001b[0m\u001b[1;33m.\u001b[0m\u001b[0mtextFile\u001b[0m \u001b[1;33m(\u001b[0m \u001b[0mpath\u001b[0m\u001b[1;33m)\u001b[0m\u001b[1;33m\u001b[0m\u001b[1;33m\u001b[0m\u001b[0m\n\u001b[0m",
      "\u001b[1;31mTypeError\u001b[0m: textFile() missing 1 required positional argument: 'name'"
     ]
    }
   ],
   "source": [
    "datafile = sc.textFile ( path)"
   ]
  },
  {
   "cell_type": "code",
   "execution_count": null,
   "id": "dcd45385",
   "metadata": {},
   "outputs": [],
   "source": [
    "import pandas as pd"
   ]
  },
  {
   "cell_type": "code",
   "execution_count": null,
   "id": "459212fb",
   "metadata": {},
   "outputs": [],
   "source": [
    "pd.read_csv(r\"C:\\Users\\hongw\\Downloads\\Data science Assignments\\Lesson 12 -2\\Airport.csv\")"
   ]
  },
  {
   "cell_type": "code",
   "execution_count": null,
   "id": "139ed8c7",
   "metadata": {},
   "outputs": [],
   "source": []
  }
 ],
 "metadata": {
  "kernelspec": {
   "display_name": "Python 3",
   "language": "python",
   "name": "python3"
  },
  "language_info": {
   "codemirror_mode": {
    "name": "ipython",
    "version": 3
   },
   "file_extension": ".py",
   "mimetype": "text/x-python",
   "name": "python",
   "nbconvert_exporter": "python",
   "pygments_lexer": "ipython3",
   "version": "3.8.8"
  }
 },
 "nbformat": 4,
 "nbformat_minor": 5
}
